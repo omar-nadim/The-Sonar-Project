{
 "cells": [
  {
   "cell_type": "markdown",
   "metadata": {},
   "source": [
    "#  The Sonar Dataset Project"
   ]
  },
  {
   "cell_type": "markdown",
   "metadata": {},
   "source": [
    "The purpose of this exercice is to train a network to discriminate between sonar signals bounced off a metal cylinder and those bounced off a roughly cylindrical rock.\n",
    "\n",
    " The bouncing sonar signals off a metal cylinder were obtained at various angles and under various conditions."
   ]
  },
  {
   "cell_type": "markdown",
   "metadata": {},
   "source": [
    "Let's look at the Data as usual"
   ]
  },
  {
   "cell_type": "code",
   "execution_count": 1,
   "metadata": {},
   "outputs": [],
   "source": [
    "from pandas import read_csv, set_option"
   ]
  },
  {
   "cell_type": "code",
   "execution_count": 2,
   "metadata": {},
   "outputs": [],
   "source": [
    "filename = 'sonar.csv'\n",
    "data = read_csv(filename, header=None)\n",
    "peek = data.head(20)\n",
    "shape = data.shape\n",
    "types = data.dtypes"
   ]
  },
  {
   "cell_type": "code",
   "execution_count": 3,
   "metadata": {},
   "outputs": [
    {
     "name": "stdout",
     "output_type": "stream",
     "text": [
      "        0       1       2       3       4       5       6       7       8   \\\n",
      "0   0.0200  0.0371  0.0428  0.0207  0.0954  0.0986  0.1539  0.1601  0.3109   \n",
      "1   0.0453  0.0523  0.0843  0.0689  0.1183  0.2583  0.2156  0.3481  0.3337   \n",
      "2   0.0262  0.0582  0.1099  0.1083  0.0974  0.2280  0.2431  0.3771  0.5598   \n",
      "3   0.0100  0.0171  0.0623  0.0205  0.0205  0.0368  0.1098  0.1276  0.0598   \n",
      "4   0.0762  0.0666  0.0481  0.0394  0.0590  0.0649  0.1209  0.2467  0.3564   \n",
      "5   0.0286  0.0453  0.0277  0.0174  0.0384  0.0990  0.1201  0.1833  0.2105   \n",
      "6   0.0317  0.0956  0.1321  0.1408  0.1674  0.1710  0.0731  0.1401  0.2083   \n",
      "7   0.0519  0.0548  0.0842  0.0319  0.1158  0.0922  0.1027  0.0613  0.1465   \n",
      "8   0.0223  0.0375  0.0484  0.0475  0.0647  0.0591  0.0753  0.0098  0.0684   \n",
      "9   0.0164  0.0173  0.0347  0.0070  0.0187  0.0671  0.1056  0.0697  0.0962   \n",
      "10  0.0039  0.0063  0.0152  0.0336  0.0310  0.0284  0.0396  0.0272  0.0323   \n",
      "11  0.0123  0.0309  0.0169  0.0313  0.0358  0.0102  0.0182  0.0579  0.1122   \n",
      "12  0.0079  0.0086  0.0055  0.0250  0.0344  0.0546  0.0528  0.0958  0.1009   \n",
      "13  0.0090  0.0062  0.0253  0.0489  0.1197  0.1589  0.1392  0.0987  0.0955   \n",
      "14  0.0124  0.0433  0.0604  0.0449  0.0597  0.0355  0.0531  0.0343  0.1052   \n",
      "15  0.0298  0.0615  0.0650  0.0921  0.1615  0.2294  0.2176  0.2033  0.1459   \n",
      "16  0.0352  0.0116  0.0191  0.0469  0.0737  0.1185  0.1683  0.1541  0.1466   \n",
      "17  0.0192  0.0607  0.0378  0.0774  0.1388  0.0809  0.0568  0.0219  0.1037   \n",
      "18  0.0270  0.0092  0.0145  0.0278  0.0412  0.0757  0.1026  0.1138  0.0794   \n",
      "19  0.0126  0.0149  0.0641  0.1732  0.2565  0.2559  0.2947  0.4110  0.4983   \n",
      "\n",
      "        9   ...      51      52      53      54      55      56      57  \\\n",
      "0   0.2111  ...  0.0027  0.0065  0.0159  0.0072  0.0167  0.0180  0.0084   \n",
      "1   0.2872  ...  0.0084  0.0089  0.0048  0.0094  0.0191  0.0140  0.0049   \n",
      "2   0.6194  ...  0.0232  0.0166  0.0095  0.0180  0.0244  0.0316  0.0164   \n",
      "3   0.1264  ...  0.0121  0.0036  0.0150  0.0085  0.0073  0.0050  0.0044   \n",
      "4   0.4459  ...  0.0031  0.0054  0.0105  0.0110  0.0015  0.0072  0.0048   \n",
      "5   0.3039  ...  0.0045  0.0014  0.0038  0.0013  0.0089  0.0057  0.0027   \n",
      "6   0.3513  ...  0.0201  0.0248  0.0131  0.0070  0.0138  0.0092  0.0143   \n",
      "7   0.2838  ...  0.0081  0.0120  0.0045  0.0121  0.0097  0.0085  0.0047   \n",
      "8   0.1487  ...  0.0145  0.0128  0.0145  0.0058  0.0049  0.0065  0.0093   \n",
      "9   0.0251  ...  0.0090  0.0223  0.0179  0.0084  0.0068  0.0032  0.0035   \n",
      "10  0.0452  ...  0.0062  0.0120  0.0052  0.0056  0.0093  0.0042  0.0003   \n",
      "11  0.0835  ...  0.0133  0.0265  0.0224  0.0074  0.0118  0.0026  0.0092   \n",
      "12  0.1240  ...  0.0176  0.0127  0.0088  0.0098  0.0019  0.0059  0.0058   \n",
      "13  0.1895  ...  0.0059  0.0095  0.0194  0.0080  0.0152  0.0158  0.0053   \n",
      "14  0.2120  ...  0.0083  0.0057  0.0174  0.0188  0.0054  0.0114  0.0196   \n",
      "15  0.0852  ...  0.0031  0.0153  0.0071  0.0212  0.0076  0.0152  0.0049   \n",
      "16  0.2912  ...  0.0346  0.0158  0.0154  0.0109  0.0048  0.0095  0.0015   \n",
      "17  0.1186  ...  0.0331  0.0131  0.0120  0.0108  0.0024  0.0045  0.0037   \n",
      "18  0.1520  ...  0.0084  0.0010  0.0018  0.0068  0.0039  0.0120  0.0132   \n",
      "19  0.5920  ...  0.0092  0.0035  0.0098  0.0121  0.0006  0.0181  0.0094   \n",
      "\n",
      "        58      59  60  \n",
      "0   0.0090  0.0032   R  \n",
      "1   0.0052  0.0044   R  \n",
      "2   0.0095  0.0078   R  \n",
      "3   0.0040  0.0117   R  \n",
      "4   0.0107  0.0094   R  \n",
      "5   0.0051  0.0062   R  \n",
      "6   0.0036  0.0103   R  \n",
      "7   0.0048  0.0053   R  \n",
      "8   0.0059  0.0022   R  \n",
      "9   0.0056  0.0040   R  \n",
      "10  0.0053  0.0036   R  \n",
      "11  0.0009  0.0044   R  \n",
      "12  0.0059  0.0032   R  \n",
      "13  0.0189  0.0102   R  \n",
      "14  0.0147  0.0062   R  \n",
      "15  0.0200  0.0073   R  \n",
      "16  0.0073  0.0067   R  \n",
      "17  0.0112  0.0075   R  \n",
      "18  0.0070  0.0088   R  \n",
      "19  0.0116  0.0063   R  \n",
      "\n",
      "[20 rows x 61 columns]\n"
     ]
    }
   ],
   "source": [
    "print(peek)"
   ]
  },
  {
   "cell_type": "code",
   "execution_count": 4,
   "metadata": {},
   "outputs": [
    {
     "name": "stdout",
     "output_type": "stream",
     "text": [
      "(208, 61)\n"
     ]
    }
   ],
   "source": [
    "print(shape)"
   ]
  },
  {
   "cell_type": "code",
   "execution_count": 5,
   "metadata": {},
   "outputs": [
    {
     "name": "stdout",
     "output_type": "stream",
     "text": [
      "0     float64\n",
      "1     float64\n",
      "2     float64\n",
      "3     float64\n",
      "4     float64\n",
      "5     float64\n",
      "6     float64\n",
      "7     float64\n",
      "8     float64\n",
      "9     float64\n",
      "10    float64\n",
      "11    float64\n",
      "12    float64\n",
      "13    float64\n",
      "14    float64\n",
      "15    float64\n",
      "16    float64\n",
      "17    float64\n",
      "18    float64\n",
      "19    float64\n",
      "20    float64\n",
      "21    float64\n",
      "22    float64\n",
      "23    float64\n",
      "24    float64\n",
      "25    float64\n",
      "26    float64\n",
      "27    float64\n",
      "28    float64\n",
      "29    float64\n",
      "       ...   \n",
      "31    float64\n",
      "32    float64\n",
      "33    float64\n",
      "34    float64\n",
      "35    float64\n",
      "36    float64\n",
      "37    float64\n",
      "38    float64\n",
      "39    float64\n",
      "40    float64\n",
      "41    float64\n",
      "42    float64\n",
      "43    float64\n",
      "44    float64\n",
      "45    float64\n",
      "46    float64\n",
      "47    float64\n",
      "48    float64\n",
      "49    float64\n",
      "50    float64\n",
      "51    float64\n",
      "52    float64\n",
      "53    float64\n",
      "54    float64\n",
      "55    float64\n",
      "56    float64\n",
      "57    float64\n",
      "58    float64\n",
      "59    float64\n",
      "60     object\n",
      "Length: 61, dtype: object\n"
     ]
    }
   ],
   "source": [
    "print(types)"
   ]
  },
  {
   "cell_type": "markdown",
   "metadata": {},
   "source": [
    "Let's do some descriptive statistics"
   ]
  },
  {
   "cell_type": "code",
   "execution_count": 6,
   "metadata": {},
   "outputs": [],
   "source": [
    "set_option('display.width',100)\n",
    "set_option('precision',3)\n",
    "description = data.describe()"
   ]
  },
  {
   "cell_type": "code",
   "execution_count": 7,
   "metadata": {},
   "outputs": [
    {
     "name": "stdout",
     "output_type": "stream",
     "text": [
      "            0          1        2        3        4        5        6        7        8        9   \\\n",
      "count  208.000  2.080e+02  208.000  208.000  208.000  208.000  208.000  208.000  208.000  208.000   \n",
      "mean     0.029  3.844e-02    0.044    0.054    0.075    0.105    0.122    0.135    0.178    0.208   \n",
      "std      0.023  3.296e-02    0.038    0.047    0.056    0.059    0.062    0.085    0.118    0.134   \n",
      "min      0.002  6.000e-04    0.002    0.006    0.007    0.010    0.003    0.005    0.007    0.011   \n",
      "25%      0.013  1.645e-02    0.019    0.024    0.038    0.067    0.081    0.080    0.097    0.111   \n",
      "50%      0.023  3.080e-02    0.034    0.044    0.062    0.092    0.107    0.112    0.152    0.182   \n",
      "75%      0.036  4.795e-02    0.058    0.065    0.100    0.134    0.154    0.170    0.233    0.269   \n",
      "max      0.137  2.339e-01    0.306    0.426    0.401    0.382    0.373    0.459    0.683    0.711   \n",
      "\n",
      "       ...       50         51         52       53         54         55         56         57  \\\n",
      "count  ...  208.000  2.080e+02  2.080e+02  208.000  2.080e+02  2.080e+02  2.080e+02  2.080e+02   \n",
      "mean   ...    0.016  1.342e-02  1.071e-02    0.011  9.290e-03  8.222e-03  7.820e-03  7.949e-03   \n",
      "std    ...    0.012  9.634e-03  7.060e-03    0.007  7.088e-03  5.736e-03  5.785e-03  6.470e-03   \n",
      "min    ...    0.000  8.000e-04  5.000e-04    0.001  6.000e-04  4.000e-04  3.000e-04  3.000e-04   \n",
      "25%    ...    0.008  7.275e-03  5.075e-03    0.005  4.150e-03  4.400e-03  3.700e-03  3.600e-03   \n",
      "50%    ...    0.014  1.140e-02  9.550e-03    0.009  7.500e-03  6.850e-03  5.950e-03  5.800e-03   \n",
      "75%    ...    0.021  1.673e-02  1.490e-02    0.015  1.210e-02  1.058e-02  1.043e-02  1.035e-02   \n",
      "max    ...    0.100  7.090e-02  3.900e-02    0.035  4.470e-02  3.940e-02  3.550e-02  4.400e-02   \n",
      "\n",
      "              58         59  \n",
      "count  2.080e+02  2.080e+02  \n",
      "mean   7.941e-03  6.507e-03  \n",
      "std    6.181e-03  5.031e-03  \n",
      "min    1.000e-04  6.000e-04  \n",
      "25%    3.675e-03  3.100e-03  \n",
      "50%    6.400e-03  5.300e-03  \n",
      "75%    1.033e-02  8.525e-03  \n",
      "max    3.640e-02  4.390e-02  \n",
      "\n",
      "[8 rows x 60 columns]\n"
     ]
    }
   ],
   "source": [
    "print(description)"
   ]
  },
  {
   "cell_type": "markdown",
   "metadata": {},
   "source": [
    "The class counts of metal and rock is:"
   ]
  },
  {
   "cell_type": "code",
   "execution_count": 8,
   "metadata": {},
   "outputs": [
    {
     "name": "stdout",
     "output_type": "stream",
     "text": [
      "60\n",
      "M    111\n",
      "R     97\n",
      "dtype: int64\n"
     ]
    }
   ],
   "source": [
    "class_counts = data.groupby(60).size()\n",
    "print(class_counts)"
   ]
  },
  {
   "cell_type": "markdown",
   "metadata": {},
   "source": [
    "## The machine learning part"
   ]
  },
  {
   "cell_type": "markdown",
   "metadata": {},
   "source": [
    "Let's seperate the data"
   ]
  },
  {
   "cell_type": "code",
   "execution_count": 9,
   "metadata": {},
   "outputs": [],
   "source": [
    "from sklearn.model_selection import train_test_split\n",
    "\n",
    "array = data.values\n",
    "X = array[:,:-1]\n",
    "Y = array[:,-1]\n",
    "validation_size = 0.2\n",
    "seed=7\n",
    "X_train, X_validation, Y_train, Y_validation = train_test_split(X, Y,\n",
    "test_size=validation_size, random_state=seed)"
   ]
  },
  {
   "cell_type": "markdown",
   "metadata": {},
   "source": [
    "Let's import the classification algorithms needed and define the list of models"
   ]
  },
  {
   "cell_type": "code",
   "execution_count": 11,
   "metadata": {},
   "outputs": [],
   "source": [
    "from sklearn.linear_model import LogisticRegression\n",
    "from sklearn.tree import DecisionTreeClassifier\n",
    "from sklearn.neighbors import KNeighborsClassifier\n",
    "from sklearn.discriminant_analysis import LinearDiscriminantAnalysis\n",
    "from sklearn.naive_bayes import GaussianNB\n",
    "from sklearn.svm import SVC"
   ]
  },
  {
   "cell_type": "code",
   "execution_count": 12,
   "metadata": {},
   "outputs": [],
   "source": [
    "models = []\n",
    "models.append(('LR', LogisticRegression(solver = \"lbfgs\", multi_class=\"auto\")))\n",
    "models.append(('LDA', LinearDiscriminantAnalysis()))\n",
    "models.append(('KNN', KNeighborsClassifier()))\n",
    "models.append(('CART', DecisionTreeClassifier()))\n",
    "models.append(('NB', GaussianNB()))\n",
    "models.append(('SVM', SVC(gamma=\"auto\")))"
   ]
  },
  {
   "cell_type": "markdown",
   "metadata": {},
   "source": [
    "In order to evaluate each model we will use the cross validation methode where the training data is split into folds and and the validation set changes every time and is assigned one of the folds.\n",
    "\n",
    "For our dataset we will split the dat into 10 folds\n",
    "\n",
    "Let's import the needed libraries first"
   ]
  },
  {
   "cell_type": "code",
   "execution_count": 14,
   "metadata": {},
   "outputs": [],
   "source": [
    "from sklearn.model_selection import KFold\n",
    "from sklearn.model_selection import cross_val_score"
   ]
  },
  {
   "cell_type": "code",
   "execution_count": 15,
   "metadata": {},
   "outputs": [
    {
     "name": "stdout",
     "output_type": "stream",
     "text": [
      "LR: 0.7694852941176471 0.10051029509664779\n",
      "LDA: 0.7463235294117647 0.11785367885381073\n",
      "KNN: 0.8080882352941176 0.06750704820308338\n",
      "CART: 0.7058823529411764 0.10850260708363019\n",
      "NB: 0.6488970588235294 0.1418684214516758\n",
      "SVM: 0.6088235294117647 0.1186560591820866\n"
     ]
    }
   ],
   "source": [
    "results = []\n",
    "names = []\n",
    "for name, model in models:\n",
    "    kfold = KFold(n_splits=10, random_state=seed)\n",
    "    cv_results = cross_val_score(model, X_train, Y_train, cv=kfold, scoring='accuracy')\n",
    "    results.append(cv_results)\n",
    "    names.append(name)\n",
    "    print(f'{name}: {cv_results.mean()} {cv_results.std()}')"
   ]
  },
  {
   "cell_type": "markdown",
   "metadata": {},
   "source": [
    "In this we can see that the KNN algorithm performs the best, but the SVM algorithm performs surprisingly bad, I will try the apply standard scaling to the features to improve the performance. \n",
    "\n",
    "In order to do that we will use pipelines and use the standard scaler."
   ]
  },
  {
   "cell_type": "code",
   "execution_count": 16,
   "metadata": {},
   "outputs": [],
   "source": [
    "from sklearn.pipeline import Pipeline\n",
    "from sklearn.preprocessing import StandardScaler"
   ]
  },
  {
   "cell_type": "code",
   "execution_count": 23,
   "metadata": {},
   "outputs": [
    {
     "name": "stdout",
     "output_type": "stream",
     "text": [
      "ScaledLR: 0.7404411764705883 0.09466751140841813\n",
      "ScaledLASSO: 0.7463235294117647 0.11785367885381073\n",
      "ScaledNB: 0.6488970588235294 0.1418684214516758\n",
      "ScaledKNN: 0.8257352941176471 0.054511038214266574\n",
      "ScaledCART: 0.7180147058823529 0.11175563527433832\n",
      "ScaledSVC: 0.8363970588235293 0.08869747214968386\n"
     ]
    }
   ],
   "source": [
    "import numpy as np\n",
    "pipelines = []\n",
    "pipelines.append(('ScaledLR', Pipeline([('Scaler', StandardScaler()),('LR',\n",
    "LogisticRegression(solver = \"lbfgs\", multi_class=\"auto\"))])))\n",
    "pipelines.append(('ScaledLASSO', Pipeline([('Scaler', StandardScaler()),('LDA',\n",
    "LinearDiscriminantAnalysis())])))\n",
    "pipelines.append(('ScaledNB', Pipeline([('Scaler', StandardScaler()),('NB',\n",
    "GaussianNB())])))\n",
    "pipelines.append(('ScaledKNN', Pipeline([('Scaler', StandardScaler()),('KNN',\n",
    "KNeighborsClassifier())])))\n",
    "pipelines.append(('ScaledCART', Pipeline([('Scaler', StandardScaler()),('CART',\n",
    "DecisionTreeClassifier())])))\n",
    "pipelines.append(('ScaledSVC', Pipeline([('Scaler', StandardScaler()),('SVC', SVC(gamma=\"auto\"))])))\n",
    "results = []\n",
    "names = []\n",
    "for name, model in pipelines:\n",
    "    kfold = KFold(n_splits=10, random_state=seed)\n",
    "    cv_results = cross_val_score(model, X_train.astype(np.float), Y_train, cv=kfold, scoring='accuracy')\n",
    "    results.append(cv_results)\n",
    "    names.append(name)\n",
    "    print(f'{name}: {cv_results.mean()} {cv_results.std()}')"
   ]
  },
  {
   "cell_type": "markdown",
   "metadata": {},
   "source": [
    "As we can see the SVM algorithm and the KNN algorithm are the top performers, let's do some tuning"
   ]
  },
  {
   "cell_type": "code",
   "execution_count": 24,
   "metadata": {},
   "outputs": [],
   "source": [
    "from sklearn.model_selection import GridSearchCV"
   ]
  },
  {
   "cell_type": "markdown",
   "metadata": {},
   "source": [
    "Let's start with the KNN"
   ]
  },
  {
   "cell_type": "code",
   "execution_count": 28,
   "metadata": {},
   "outputs": [
    {
     "name": "stdout",
     "output_type": "stream",
     "text": [
      "Best: 0.8493975903614458 using {'n_neighbors': 1}\n",
      "0.8493975903614458 (0.05988110090069771) with: {'n_neighbors': 1}\n",
      "0.8373493975903614 (0.06630330382796286) with: {'n_neighbors': 3}\n",
      "0.8373493975903614 (0.03749969758430342) with: {'n_neighbors': 5}\n",
      "0.7650602409638554 (0.08950992596280488) with: {'n_neighbors': 7}\n",
      "0.7530120481927711 (0.08697897949491253) with: {'n_neighbors': 9}\n",
      "0.7349397590361446 (0.10489007400824805) with: {'n_neighbors': 11}\n",
      "0.7349397590361446 (0.10583597849547675) with: {'n_neighbors': 13}\n",
      "0.7289156626506024 (0.07587309410809662) with: {'n_neighbors': 15}\n",
      "0.7108433734939759 (0.07871598186667497) with: {'n_neighbors': 17}\n",
      "0.7228915662650602 (0.08455537779041811) with: {'n_neighbors': 19}\n",
      "0.7108433734939759 (0.10882920638633953) with: {'n_neighbors': 21}\n"
     ]
    }
   ],
   "source": [
    "# KNN Algorithm tuning\n",
    "scaler = StandardScaler().fit(X_train.astype(float))\n",
    "rescaledX = scaler.transform(X_train.astype(float))\n",
    "k_values = np.array([1,3,5,7,9,11,13,15,17,19,21])\n",
    "param_grid = dict(n_neighbors=k_values)\n",
    "model = KNeighborsClassifier()\n",
    "kfold = KFold(n_splits=10, random_state=seed)\n",
    "grid = GridSearchCV(estimator=model, param_grid=param_grid, scoring='accuracy', cv=kfold,iid=True)\n",
    "grid_result = grid.fit(rescaledX, Y_train)\n",
    "print(f\"Best: {grid_result.best_score_} using {grid_result.best_params_}\")\n",
    "means = grid_result.cv_results_['mean_test_score']\n",
    "stds = grid_result.cv_results_['std_test_score']\n",
    "params = grid_result.cv_results_['params']\n",
    "for mean, stdev, param in zip(means, stds, params):\n",
    "    print(f\"{mean} ({stdev}) with: {param}\")"
   ]
  },
  {
   "cell_type": "markdown",
   "metadata": {},
   "source": [
    "And the SVM"
   ]
  },
  {
   "cell_type": "code",
   "execution_count": 32,
   "metadata": {
    "scrolled": true
   },
   "outputs": [
    {
     "name": "stdout",
     "output_type": "stream",
     "text": [
      "Best: 0.8674698795180723 using {'C': 1.5, 'kernel': 'rbf'}\n",
      "0.7590361445783133 (0.09886327405671058) with: {'C': 0.1, 'kernel': 'linear'}\n",
      "0.5301204819277109 (0.11878006022028104) with: {'C': 0.1, 'kernel': 'poly'}\n",
      "0.572289156626506 (0.13033853327360725) with: {'C': 0.1, 'kernel': 'rbf'}\n",
      "0.7048192771084337 (0.0663596226254967) with: {'C': 0.1, 'kernel': 'sigmoid'}\n",
      "0.7469879518072289 (0.10891253844857184) with: {'C': 0.3, 'kernel': 'linear'}\n",
      "0.6445783132530121 (0.13229030877107076) with: {'C': 0.3, 'kernel': 'poly'}\n",
      "0.7650602409638554 (0.09231152338173192) with: {'C': 0.3, 'kernel': 'rbf'}\n",
      "0.7349397590361446 (0.05463116375770295) with: {'C': 0.3, 'kernel': 'sigmoid'}\n",
      "0.7409638554216867 (0.08303483150783184) with: {'C': 0.5, 'kernel': 'linear'}\n",
      "0.6807228915662651 (0.09863764643656386) with: {'C': 0.5, 'kernel': 'poly'}\n",
      "0.7891566265060241 (0.06431559978182318) with: {'C': 0.5, 'kernel': 'rbf'}\n",
      "0.7469879518072289 (0.059265219662503005) with: {'C': 0.5, 'kernel': 'sigmoid'}\n",
      "0.7469879518072289 (0.08452539277350771) with: {'C': 0.7, 'kernel': 'linear'}\n",
      "0.7409638554216867 (0.12796044734796017) with: {'C': 0.7, 'kernel': 'poly'}\n",
      "0.8132530120481928 (0.08488608565008864) with: {'C': 0.7, 'kernel': 'rbf'}\n",
      "0.7530120481927711 (0.05851304648466163) with: {'C': 0.7, 'kernel': 'sigmoid'}\n",
      "0.7590361445783133 (0.0969403988702124) with: {'C': 0.9, 'kernel': 'linear'}\n",
      "0.7710843373493976 (0.10212654204939915) with: {'C': 0.9, 'kernel': 'poly'}\n",
      "0.8373493975903614 (0.08785351487461503) with: {'C': 0.9, 'kernel': 'rbf'}\n",
      "0.7530120481927711 (0.0737508725947764) with: {'C': 0.9, 'kernel': 'sigmoid'}\n",
      "0.7530120481927711 (0.09922966507923357) with: {'C': 1.0, 'kernel': 'linear'}\n",
      "0.7891566265060241 (0.10760124164941035) with: {'C': 1.0, 'kernel': 'poly'}\n",
      "0.8373493975903614 (0.08785351487461503) with: {'C': 1.0, 'kernel': 'rbf'}\n",
      "0.7530120481927711 (0.07021253951611289) with: {'C': 1.0, 'kernel': 'sigmoid'}\n",
      "0.7710843373493976 (0.1060626460103032) with: {'C': 1.3, 'kernel': 'linear'}\n",
      "0.8192771084337349 (0.10641428026190228) with: {'C': 1.3, 'kernel': 'poly'}\n",
      "0.8493975903614458 (0.0799904226717884) with: {'C': 1.3, 'kernel': 'rbf'}\n",
      "0.7108433734939759 (0.07686539813119345) with: {'C': 1.3, 'kernel': 'sigmoid'}\n",
      "0.7590361445783133 (0.09177665690741682) with: {'C': 1.5, 'kernel': 'linear'}\n",
      "0.8313253012048193 (0.10949896098567918) with: {'C': 1.5, 'kernel': 'poly'}\n",
      "0.8674698795180723 (0.09088262174597157) with: {'C': 1.5, 'kernel': 'rbf'}\n",
      "0.7409638554216867 (0.06371745723284991) with: {'C': 1.5, 'kernel': 'sigmoid'}\n",
      "0.7469879518072289 (0.09022846345090922) with: {'C': 1.7, 'kernel': 'linear'}\n",
      "0.8313253012048193 (0.11569489827740086) with: {'C': 1.7, 'kernel': 'poly'}\n",
      "0.8614457831325302 (0.08769086948685412) with: {'C': 1.7, 'kernel': 'rbf'}\n",
      "0.7108433734939759 (0.08814007112072615) with: {'C': 1.7, 'kernel': 'sigmoid'}\n",
      "0.7590361445783133 (0.09427645745320859) with: {'C': 2.0, 'kernel': 'linear'}\n",
      "0.8313253012048193 (0.10827859206120853) with: {'C': 2.0, 'kernel': 'poly'}\n",
      "0.8674698795180723 (0.09470146861189553) with: {'C': 2.0, 'kernel': 'rbf'}\n",
      "0.7289156626506024 (0.09505021599393057) with: {'C': 2.0, 'kernel': 'sigmoid'}\n"
     ]
    }
   ],
   "source": [
    "# svm Algorithm tuning\n",
    "scaler = StandardScaler().fit(X_train.astype(float))\n",
    "rescaledX = scaler.transform(X_train.astype(float))\n",
    "C_values = np.array([0.1,0.3,0.5,0.7,0.9,1.0,1.3,1.5,1.7,2.0])\n",
    "kernel_values = ['linear','poly','rbf','sigmoid']\n",
    "param_grid = dict(C=C_values, kernel=kernel_values)\n",
    "model = SVC(gamma='auto')\n",
    "kfold = KFold(n_splits=10, random_state=seed)\n",
    "grid = GridSearchCV(estimator=model, param_grid=param_grid, scoring='accuracy', cv=kfold,iid=True)\n",
    "grid_result = grid.fit(rescaledX, Y_train)\n",
    "print(f\"Best: {grid_result.best_score_} using {grid_result.best_params_}\")\n",
    "means = grid_result.cv_results_['mean_test_score']\n",
    "stds = grid_result.cv_results_['std_test_score']\n",
    "params = grid_result.cv_results_['params']\n",
    "for mean, stdev, param in zip(means, stds, params):\n",
    "    print(f\"{mean} ({stdev}) with: {param}\")"
   ]
  },
  {
   "cell_type": "markdown",
   "metadata": {},
   "source": [
    "So the best algorithm is the SVM algorithm with C=1.5 and kernel = 'rbf'"
   ]
  },
  {
   "cell_type": "markdown",
   "metadata": {},
   "source": [
    "## Prediction Time"
   ]
  },
  {
   "cell_type": "code",
   "execution_count": 38,
   "metadata": {},
   "outputs": [
    {
     "name": "stdout",
     "output_type": "stream",
     "text": [
      "0.8571428571428571\n",
      "[[23  4]\n",
      " [ 2 13]]\n",
      "              precision    recall  f1-score   support\n",
      "\n",
      "           M       0.92      0.85      0.88        27\n",
      "           R       0.76      0.87      0.81        15\n",
      "\n",
      "   micro avg       0.86      0.86      0.86        42\n",
      "   macro avg       0.84      0.86      0.85        42\n",
      "weighted avg       0.86      0.86      0.86        42\n",
      "\n"
     ]
    }
   ],
   "source": [
    "from sklearn.metrics import classification_report\n",
    "from sklearn.metrics import confusion_matrix\n",
    "from sklearn.metrics import accuracy_score\n",
    "\n",
    "# prepare the model\n",
    "scaler = StandardScaler().fit(X_train.astype(float))\n",
    "rescaledX = scaler.transform(X_train.astype(float))\n",
    "model = SVC(C=1.5)\n",
    "model.fit(rescaledX, Y_train)\n",
    "# estimate accuracy on validation dataset\n",
    "rescaledValidationX = scaler.transform(X_validation.astype(float))\n",
    "predictions = model.predict(rescaledValidationX)\n",
    "print(accuracy_score(Y_validation, predictions))\n",
    "print(confusion_matrix(Y_validation, predictions))\n",
    "print(classification_report(Y_validation, predictions))"
   ]
  }
 ],
 "metadata": {
  "kernelspec": {
   "display_name": "Python 3",
   "language": "python",
   "name": "python3"
  },
  "language_info": {
   "codemirror_mode": {
    "name": "ipython",
    "version": 3
   },
   "file_extension": ".py",
   "mimetype": "text/x-python",
   "name": "python",
   "nbconvert_exporter": "python",
   "pygments_lexer": "ipython3",
   "version": "3.7.3"
  }
 },
 "nbformat": 4,
 "nbformat_minor": 2
}
